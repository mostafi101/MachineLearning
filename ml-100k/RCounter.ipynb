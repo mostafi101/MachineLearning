{
 "cells": [
  {
   "cell_type": "code",
   "execution_count": 1,
   "metadata": {
    "collapsed": false
   },
   "outputs": [],
   "source": [
    "from mrjob.job import MRJob\n",
    "\n",
    "class MRRatingCounter(MRJob):\n",
    "    def mapper(self, key, line):\n",
    "        (userID, movieID, rating, timestamp) = line.split('\\t')\n",
    "        yield rating, 1\n",
    "\n",
    "    def reducer(self, rating, occurences):\n",
    "        yield rating, sum(occurences)\n",
    "\n",
    "\n"
   ]
  },
  {
   "cell_type": "code",
   "execution_count": 7,
   "metadata": {
    "collapsed": false
   },
   "outputs": [
    {
     "name": "stdout",
     "output_type": "stream",
     "text": [
      "No configs found; falling back on auto-configuration\n",
      "Creating temp directory /var/folders/ld/27svwdm51jd5wtrfh4d74n1c0000gn/T/RatingCounter.mostafijurrahaman.20160927.232141.717348\n",
      "Running step 1 of 1...\n",
      "Streaming final output from /var/folders/ld/27svwdm51jd5wtrfh4d74n1c0000gn/T/RatingCounter.mostafijurrahaman.20160927.232141.717348/output...\n",
      "\"1\"\t6110\n",
      "\"2\"\t11370\n",
      "\"3\"\t27145\n",
      "\"4\"\t34174\n",
      "\"5\"\t21201\n",
      "Removing temp directory /var/folders/ld/27svwdm51jd5wtrfh4d74n1c0000gn/T/RatingCounter.mostafijurrahaman.20160927.232141.717348...\n"
     ]
    }
   ],
   "source": [
    "!python RatingCounter.py u.data"
   ]
  },
  {
   "cell_type": "code",
   "execution_count": null,
   "metadata": {
    "collapsed": true
   },
   "outputs": [],
   "source": []
  }
 ],
 "metadata": {
  "anaconda-cloud": {},
  "kernelspec": {
   "display_name": "Python [Root]",
   "language": "python",
   "name": "Python [Root]"
  },
  "language_info": {
   "codemirror_mode": {
    "name": "ipython",
    "version": 2
   },
   "file_extension": ".py",
   "mimetype": "text/x-python",
   "name": "python",
   "nbconvert_exporter": "python",
   "pygments_lexer": "ipython2",
   "version": "2.7.12"
  }
 },
 "nbformat": 4,
 "nbformat_minor": 0
}
